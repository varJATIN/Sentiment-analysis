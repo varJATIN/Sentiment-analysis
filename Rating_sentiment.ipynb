{
  "nbformat": 4,
  "nbformat_minor": 0,
  "metadata": {
    "colab": {
      "name": "Untitled1.ipynb",
      "provenance": []
    },
    "kernelspec": {
      "name": "python3",
      "display_name": "Python 3"
    }
  },
  "cells": [
    {
      "cell_type": "code",
      "metadata": {
        "id": "l-O1ws0RLUwz",
        "colab_type": "code",
        "colab": {}
      },
      "source": [
        "import numpy as np \n",
        "import pandas as pd \n",
        "import os\n",
        "import warnings"
      ],
      "execution_count": 0,
      "outputs": []
    },
    {
      "cell_type": "code",
      "metadata": {
        "id": "LfQtFglwLvaZ",
        "colab_type": "code",
        "colab": {}
      },
      "source": [
        "import nltk\n",
        "from nltk.tokenize import word_tokenize# to seperate the words as individual"
      ],
      "execution_count": 0,
      "outputs": []
    },
    {
      "cell_type": "code",
      "metadata": {
        "id": "u6fCssj-L4rW",
        "colab_type": "code",
        "outputId": "cc093326-011c-49c5-cfb1-fd9739ce47e5",
        "colab": {
          "base_uri": "https://localhost:8080/",
          "height": 97
        }
      },
      "source": [
        "from keras.utils import to_categorical\n",
        "import random\n",
        "from tensorflow import set_random_seed\n",
        "from sklearn.model_selection import train_test_split\n",
        "from keras.preprocessing import sequence\n",
        "from keras.preprocessing.text import Tokenizer\n",
        "from keras.layers import Dense,Dropout,Embedding,LSTM #layers for the sequential model\n",
        "from keras.callbacks import EarlyStopping #avoid overfitting\n",
        "from keras.losses import categorical_crossentropy #loss fn\n",
        "from keras.optimizers import Adam #update rule for the parameters\n",
        "from keras.models import Sequential\n"
      ],
      "execution_count": 5,
      "outputs": [
        {
          "output_type": "stream",
          "text": [
            "Using TensorFlow backend.\n"
          ],
          "name": "stderr"
        },
        {
          "output_type": "display_data",
          "data": {
            "text/html": [
              "<p style=\"color: red;\">\n",
              "The default version of TensorFlow in Colab will soon switch to TensorFlow 2.x.<br>\n",
              "We recommend you <a href=\"https://www.tensorflow.org/guide/migrate\" target=\"_blank\">upgrade</a> now \n",
              "or ensure your notebook will continue to use TensorFlow 1.x via the <code>%tensorflow_version 1.x</code> magic:\n",
              "<a href=\"https://colab.research.google.com/notebooks/tensorflow_version.ipynb\" target=\"_blank\">more info</a>.</p>\n"
            ],
            "text/plain": [
              "<IPython.core.display.HTML object>"
            ]
          },
          "metadata": {
            "tags": []
          }
        }
      ]
    },
    {
      "cell_type": "code",
      "metadata": {
        "id": "muzjViQQL8hU",
        "colab_type": "code",
        "colab": {}
      },
      "source": [
        "from nltk.stem import WordNetLemmatizer #Lemmatization is the process of grouping together the different \n",
        "                                        #inflected forms of a word so they can be analysed as a single item.\n",
        "lemmatizer = WordNetLemmatizer()\n",
        "from bs4 import BeautifulSoup\n",
        "import re    #regex\n",
        "from tqdm import tqdm #tqdm means “progress” in Arabic #tqdm uses smart algorithms to predict the remaining \n",
        "#time and to skip unnecessary iteration displays, which allows for a negligible overhead in most cases."
      ],
      "execution_count": 0,
      "outputs": []
    },
    {
      "cell_type": "code",
      "metadata": {
        "id": "1Y7tilt5MGJD",
        "colab_type": "code",
        "colab": {}
      },
      "source": [
        "test=pd.read_csv('/content/test.tsv','\\t')"
      ],
      "execution_count": 0,
      "outputs": []
    },
    {
      "cell_type": "code",
      "metadata": {
        "id": "WlYCYk07MKk8",
        "colab_type": "code",
        "colab": {}
      },
      "source": [
        "train=pd.read_csv('/content/train.tsv','\\t')"
      ],
      "execution_count": 0,
      "outputs": []
    },
    {
      "cell_type": "code",
      "metadata": {
        "id": "6IhRRwwJN_jH",
        "colab_type": "code",
        "outputId": "c15a7f1a-f8be-4c98-bcb7-a6596f8d2cba",
        "colab": {
          "base_uri": "https://localhost:8080/",
          "height": 34
        }
      },
      "source": [
        "train.shape\n"
      ],
      "execution_count": 11,
      "outputs": [
        {
          "output_type": "execute_result",
          "data": {
            "text/plain": [
              "(156060, 4)"
            ]
          },
          "metadata": {
            "tags": []
          },
          "execution_count": 11
        }
      ]
    },
    {
      "cell_type": "code",
      "metadata": {
        "id": "jfH0FCk5PhH7",
        "colab_type": "code",
        "colab": {}
      },
      "source": [
        "def clean_sentences(df):\n",
        "    reviews = []\n",
        "\n",
        "    for sent in tqdm(df['Phrase']):\n",
        "        #print(sent)\n",
        "        #remove html content\n",
        "        review_text = BeautifulSoup(sent).get_text()\n",
        "        #print(review_text)\n",
        "        #remove non-alphabetic characters\n",
        "        review_text = re.sub(\"[^a-zA-Z]\",\" \", review_text)#remove all special text\n",
        "        #print(review_text)\n",
        "        #tokenize the sentences\n",
        "        words = word_tokenize(review_text.lower())\n",
        "    \n",
        "        #lemmatize each word to its lemma\n",
        "        lemma_words = [lemmatizer.lemmatize(i) for i in words]\n",
        "        #print(lemma_words)\n",
        "        #Lemmatization is the process of grouping together the different \n",
        "    #inflected forms of a word so they can be analysed as a single item.\n",
        "\n",
        "        #print(lemma_words)\n",
        "        reviews.append(lemma_words)\n",
        "\n",
        "    return(reviews)"
      ],
      "execution_count": 0,
      "outputs": []
    },
    {
      "cell_type": "code",
      "metadata": {
        "id": "TrlzKWqGPph7",
        "colab_type": "code",
        "outputId": "e237c307-5691-45e9-a762-0da1f7841771",
        "colab": {
          "base_uri": "https://localhost:8080/",
          "height": 68
        }
      },
      "source": [
        "nltk.download('punkt')"
      ],
      "execution_count": 13,
      "outputs": [
        {
          "output_type": "stream",
          "text": [
            "[nltk_data] Downloading package punkt to /root/nltk_data...\n",
            "[nltk_data]   Unzipping tokenizers/punkt.zip.\n"
          ],
          "name": "stdout"
        },
        {
          "output_type": "execute_result",
          "data": {
            "text/plain": [
              "True"
            ]
          },
          "metadata": {
            "tags": []
          },
          "execution_count": 13
        }
      ]
    },
    {
      "cell_type": "code",
      "metadata": {
        "id": "n4iAVHmeP5I6",
        "colab_type": "code",
        "outputId": "fe0fc97c-c2e3-4210-f2c3-5f1e7be4e800",
        "colab": {
          "base_uri": "https://localhost:8080/",
          "height": 68
        }
      },
      "source": [
        "nltk.download('wordnet')"
      ],
      "execution_count": 14,
      "outputs": [
        {
          "output_type": "stream",
          "text": [
            "[nltk_data] Downloading package wordnet to /root/nltk_data...\n",
            "[nltk_data]   Unzipping corpora/wordnet.zip.\n"
          ],
          "name": "stdout"
        },
        {
          "output_type": "execute_result",
          "data": {
            "text/plain": [
              "True"
            ]
          },
          "metadata": {
            "tags": []
          },
          "execution_count": 14
        }
      ]
    },
    {
      "cell_type": "code",
      "metadata": {
        "id": "z36-koqQPlsV",
        "colab_type": "code",
        "colab": {}
      },
      "source": [
        "#cleaned reviews for both train and test set retrieved\n",
        "#train_sentences = clean_sentences(train)\n",
        "#test_sentences = clean_sentences(test)#these have been commented as we need to store them in a dataframe for further padding \n",
        "#print(len(train_sentences))\n",
        "#print(len(test_sentences))"
      ],
      "execution_count": 0,
      "outputs": []
    },
    {
      "cell_type": "code",
      "metadata": {
        "id": "cRtef0bNQHKe",
        "colab_type": "code",
        "colab": {}
      },
      "source": [
        "target=train.Sentiment.values\n",
        "y_target=to_categorical(target)\n",
        "num_classes=y_target.shape[1] #is 5 as there are 5 classes"
      ],
      "execution_count": 0,
      "outputs": []
    },
    {
      "cell_type": "code",
      "metadata": {
        "id": "kxDC_M8uQTbk",
        "colab_type": "code",
        "colab": {}
      },
      "source": [
        ""
      ],
      "execution_count": 0,
      "outputs": []
    },
    {
      "cell_type": "code",
      "metadata": {
        "id": "-50SwS_fQcwp",
        "colab_type": "code",
        "outputId": "7779ee28-8ca2-4f99-a771-6256f57cdf89",
        "colab": {
          "base_uri": "https://localhost:8080/",
          "height": 122
        }
      },
      "source": [
        "#It is needed for initializing tokenizer of keras and subsequent padding\n",
        "\n",
        "unique_words = set()#set() method is used to convert any of the iterable to the distinct element and \n",
        "                    #sorted sequence of iterable elements\n",
        "len_max = 0\n",
        "\n",
        "for sent in tqdm(train_sentences['one']):\n",
        "    \n",
        "    unique_words.update(sent)\n",
        "    \n",
        "    if(len_max<len(sent)):\n",
        "        len_max = len(sent)\n",
        "for sent in tqdm(test_sentences):\n",
        "   unique_words.update(sent)\n",
        "        \n",
        "#length of the list of unique_words gives the no of unique words.\n",
       
        "print(len(list(unique_words)))#it should be same as the length of the dataframe train_sentences as it is already lemmantized.\n",
        "print(len_max)"
      ],
      "execution_count": 22,
      "outputs": [
        {
          "output_type": "stream",
          "text": [
            "100%|██████████| 156060/156060 [00:00<00:00, 730691.65it/s]"
          ],
          "name": "stderr"
        },
        {
          "output_type": "stream",
          "text": [
        "13745\n",
            "48\n"
          ],
          "name": "stdout"
        },
        {
          "output_type": "stream",
          "text": [
            "\n"
          ],
          "name": "stderr"
        }
      ]
    },
    {
      "cell_type": "code",
      "metadata": {
        "id": "PNDizT1pQfvC",
        "colab_type": "code",
        "colab": {
          "base_uri": "https://localhost:8080/",
          "height": 34
        },
        "outputId": "ca53ba2a-48ec-41d4-ebd6-5399807e85c7"
      },
      "source": [
        "for sent in tqdm(test_sentences['one']):\n",
        "   unique_words.update(sent)"
      ],
      "execution_count": 26,
      "outputs": [
        {
          "output_type": "stream",
          "text": [
            "100%|██████████| 66292/66292 [00:00<00:00, 889323.60it/s]\n"
          ],
          "name": "stderr"
        }
      ]
    },
    {
      "cell_type": "code",
      "metadata": {
        "id": "zj2LAQtwQ5no",
        "colab_type": "code",
        "colab": {
          "base_uri": "https://localhost:8080/",
          "height": 34
        },
        "outputId": "dd611a5f-cacc-4350-a8f7-c340b0d31fe3"
      },
      "source": [
        "print(len(list(unique_words)))"
      ],
      "execution_count": 27,
      "outputs": [
        {
          "output_type": "stream",
          "text": [
            "15884\n"
          ],
          "name": "stdout"
        }
      ]
    },
  
    
    {
      "cell_type": "code",
      "metadata": {
        "id": "1k6oI1Qvjw9E",
        "colab_type": "code",
        "colab": {}
      },
      "source": [
        "word_to_int = {word: ii for ii, word in enumerate(unique_words, 1)}",
        "#creating a dictioinary to mapp the words to int"
      ],
      "execution_count": 0,
      "outputs": []
    },
    {
      "cell_type": "code",
      "metadata": {
        "id": "wESQwibCrunb",
        "colab_type": "code",
        "outputId": "793260fc-201f-4510-86c5-06bad1e904fc",
        "colab": {
          "base_uri": "https://localhost:8080/",
          "height": 34
        }
      },
      "source": [
        "len(list(word_to_int))#checking if the len of the dictionary is same as the unique words "
      ],
      "execution_count": 30,
      "outputs": [
        {
          "output_type": "execute_result",
          "data": {
            "text/plain": [
              "15884"
            ]
          },
          "metadata": {
            "tags": []
          },
          "execution_count": 30
        }
      ]
    },
    {
      "cell_type": "code",
      "metadata": {
        "id": "pMX_6SDUkYL2",
        "colab_type": "code",
        "outputId": "ebe8eaec-02b5-45b3-c769-3b15f5a657de",
        "colab": {
          "base_uri": "https://localhost:8080/",
          "height": 34
        }
      },
      "source": [
        "print(word_to_int['study'])\n"
      ],
      "execution_count": 86,
      "outputs": [
        {
          "output_type": "stream",
          "text": [
            "15884\n"
          ],
          "name": "stdout"
        }
      ]
    },
    {
      "cell_type": "code",
      "metadata": {
        "id": "RDMP5oiz0i6l",
        "colab_type": "code",
        "outputId": "eb8c1d3f-345f-4fb0-f23f-b75b322a924c",
        "colab": {
          "base_uri": "https://localhost:8080/",
          "height": 139
        }
      },
      "source": [
        "#cleaned reviews for both train and test set retrieved\n",
        "train_sentences=pd.DataFrame()\n",
        "test_sentences=pd.DataFrame()\n",
        "train_sentences['one'] = clean_sentences(train)\n",
        "test_sentences['one'] = clean_sentences(test)\n",
        "print(len(train_sentences))\n",
        "print(len(test_sentences))"
      ],
      "execution_count": 18,
      "outputs": [
        {
          "output_type": "stream",
          "text": [
            "  0%|          | 1/156060 [00:01<83:21:39,  1.92s/it]/usr/local/lib/python3.6/dist-packages/bs4/__init__.py:273: UserWarning: \"b'.'\" looks like a filename, not markup. You should probably open this file and pass the filehandle into Beautiful Soup.\n",
            "  ' Beautiful Soup.' % markup)\n",
            "100%|██████████| 156060/156060 [01:18<00:00, 1996.61it/s]\n",
            "100%|██████████| 66292/66292 [00:32<00:00, 2044.74it/s]"
          ],
          "name": "stderr"
        },
        {
          "output_type": "stream",
          "text": [
            "156060\n",
            "66292\n"
          ],
          "name": "stdout"
        },
        {
          "output_type": "stream",
          "text": [
            "\n"
          ],
          "name": "stderr"
        }
      ]
    },
    {
      "cell_type": "code",
      "metadata": {
        "id": "G1vM8Egf1pB0",
        "colab_type": "code",
        "outputId": "a4e56b08-da45-41e0-bcea-f6361f235206",
        "colab": {
          "base_uri": "https://localhost:8080/",
          "height": 204
        }
      },
      "source": [
        "test_sentences.head()\n"
      ],
      "execution_count": 19,
      "outputs": [
        {
          "output_type": "execute_result",
          "data": {
            "text/html": [
              "<div>\n",
              "<style scoped>\n",
              "    .dataframe tbody tr th:only-of-type {\n",
              "        vertical-align: middle;\n",
              "    }\n",
              "\n",
              "    .dataframe tbody tr th {\n",
              "        vertical-align: top;\n",
              "    }\n",
              "\n",
              "    .dataframe thead th {\n",
              "        text-align: right;\n",
              "    }\n",
              "</style>\n",
              "<table border=\"1\" class=\"dataframe\">\n",
              "  <thead>\n",
              "    <tr style=\"text-align: right;\">\n",
              "      <th></th>\n",
              "      <th>one</th>\n",
              "    </tr>\n",
              "  </thead>\n",
              "  <tbody>\n",
              "    <tr>\n",
              "      <th>0</th>\n",
              "      <td>[an, intermittently, pleasing, but, mostly, ro...</td>\n",
              "    </tr>\n",
              "    <tr>\n",
              "      <th>1</th>\n",
              "      <td>[an, intermittently, pleasing, but, mostly, ro...</td>\n",
              "    </tr>\n",
              "    <tr>\n",
              "      <th>2</th>\n",
              "      <td>[an]</td>\n",
              "    </tr>\n",
              "    <tr>\n",
              "      <th>3</th>\n",
              "      <td>[intermittently, pleasing, but, mostly, routin...</td>\n",
              "    </tr>\n",
              "    <tr>\n",
              "      <th>4</th>\n",
              "      <td>[intermittently, pleasing, but, mostly, routine]</td>\n",
              "    </tr>\n",
              "  </tbody>\n",
              "</table>\n",
              "</div>"
            ],
            "text/plain": [
              "                                                 one\n",
              "0  [an, intermittently, pleasing, but, mostly, ro...\n",
              "1  [an, intermittently, pleasing, but, mostly, ro...\n",
              "2                                               [an]\n",
              "3  [intermittently, pleasing, but, mostly, routin...\n",
              "4   [intermittently, pleasing, but, mostly, routine]"
            ]
          },
          "metadata": {
            "tags": []
          },
          "execution_count": 19
        }
      ]
    },
    {
      "cell_type": "code",
      "metadata": {
        "id": "hBRX8u6EjvK9",
        "colab_type": "code",
        "colab": {
          "base_uri": "https://localhost:8080/",
          "height": 119
        },
        "outputId": "66af27eb-0507-4365-cf4c-d47421d2105f"
      },
      "source": [
        " train_sentences['Tokens'] = train_sentences['one'].apply(lambda l: [word_to_int[word] for word in l])\n",
        "train_sentences['Tokens'].head()#mapping the values"
      ],
      "execution_count": 33,
      "outputs": [
        {
          "output_type": "execute_result",
          "data": {
            "text/plain": [
              "0    [6439, 1661, 11101, 13593, 7962, 5473, 11867, ...\n",
              "1    [6439, 1661, 11101, 13593, 7962, 5473, 11867, ...\n",
              "2                                         [6439, 1661]\n",
              "3                                               [6439]\n",
              "4                                               [1661]\n",
              "Name: Tokens, dtype: object"
            ]
          },
          "metadata": {
            "tags": []
          },
          "execution_count": 33
        }
      ]
    },
    {
      "cell_type": "code",
      "metadata": {
        "id": "CvS83Xm3sYH_",
        "colab_type": "code",
        "colab": {
          "base_uri": "https://localhost:8080/",
          "height": 119
        },
        "outputId": "49d53d41-f891-4602-ca11-c012beb03495"
      },
      "source": [
        "test_sentences['Tokens'] = test_sentences['one'].apply(lambda l: [word_to_int[word] for word in l])\n",
        "test_sentences['Tokens'].head()"
      ],
      "execution_count": 32,
      "outputs": [
        {
          "output_type": "execute_result",
          "data": {
            "text/plain": [
              "0    [2478, 3379, 6126, 15240, 6514, 12144, 4919]\n",
              "1    [2478, 3379, 6126, 15240, 6514, 12144, 4919]\n",
              "2                                          [2478]\n",
              "3          [3379, 6126, 15240, 6514, 12144, 4919]\n",
              "4                [3379, 6126, 15240, 6514, 12144]\n",
              "Name: Tokens, dtype: object"
            ]
          },
          "metadata": {
            "tags": []
          },
          "execution_count": 32
        }
      ]
    },
    {
      "cell_type": "code",
      "metadata": {
        "id": "7eY2Pye41GAt",
        "colab_type": "code",
        "colab": {
          "base_uri": "https://localhost:8080/",
          "height": 221
        },
        "outputId": "cc3bafdb-a4ef-4bdc-8628-08bde39276ae"
      },
      "source": [
        "all_tokens = np.array([t for t in train_sentences['Tokens']])\n",
        "#encoded_labels = np.array([l for l in df_train['Sentiment']])\n",
        "\n",
        "# Create blank rows\n",
        "features_train = np.zeros((len(all_tokens), len_max), dtype=int)\n",
        "# for each phrase, add zeros at the end \n",
        "for i, row in enumerate(all_tokens):\n",
        "    features_train[i, :len(row)] = row\n",
        "\n",
        "#print first 3 values of the feature matrix \n",
        "print(features_train[:3])"
      ],
      "execution_count": 58,
      "outputs": [
        {
          "output_type": "stream",
          "text": [
            "[[ 6439  1661 11101 13593  7962  5473 11867 13130  3435 13491  1484  1615\n",
            "   5473  8749 13491  6075  1484  1615  5473   291  8498 11101 13099 12491\n",
            "   5877 15240   327 11101 13099  8189 15553  6111 11101  6439  7805     0\n",
            "      0     0     0     0     0     0     0     0     0     0     0     0]\n",
            " [ 6439  1661 11101 13593  7962  5473 11867 13130  3435 13491  1484  1615\n",
            "   5473  8749     0     0     0     0     0     0     0     0     0     0\n",
            "      0     0     0     0     0     0     0     0     0     0     0     0\n",
            "      0     0     0     0     0     0     0     0     0     0     0     0]\n",
            " [ 6439  1661     0     0     0     0     0     0     0     0     0     0\n",
            "      0     0     0     0     0     0     0     0     0     0     0     0\n",
            "      0     0     0     0     0     0     0     0     0     0     0     0\n",
            "      0     0     0     0     0     0     0     0     0     0     0     0]]\n"
          ],
          "name": "stdout"
        }
      ]
    },
    {
      "cell_type": "code",
      "metadata": {
        "id": "MIS2G014OgKX",
        "colab_type": "code",
        "colab": {}
      },
      "source": [
        "#The reason for this behavior is that this fixed input length allows for the creation of fixed-shaped tensors and therefore more stable weights."
      ],
      "execution_count": 0,
      "outputs": []
    },
    {
      "cell_type": "code",
      "metadata": {
        "id": "ygR6bNxckkxg",
        "colab_type": "code",
        "outputId": "649e382e-09c1-487a-af66-73c4a55c0acd",
        "colab": {
          "base_uri": "https://localhost:8080/",
          "height": 221
        }
      },
      "source": [
        "all_tokens_test = np.array([t for t in test_sentences['Tokens']])\n",
        "#encoded_labels = np.array([l for l in df_train['Sentiment']])\n",
        "\n",
        "# Create blank rows\n",
        "features_test = np.zeros((len(all_tokens_test), len_max), dtype=int)\n",
        "# for each phrase, add zeros at the end \n",
        "for i, row in enumerate(all_tokens_test):\n",
        "   # print(row)\n",
        "    if len(row)<=48:\n",
        "      features_test[i, :len(row)] = row\n",
        "    else:\n",
        "      features_test[i, :48] = row[0:48]\n",
        "\n",
        "#print first 3 values of the feature matrix \n",
        "print(features_test[:3])"
      ],
      "execution_count": 57,
      "outputs": [
        {
          "output_type": "stream",
          "text": [
            "[[ 2478  3379  6126 15240  6514 12144  4919     0     0     0     0     0\n",
            "      0     0     0     0     0     0     0     0     0     0     0     0\n",
            "      0     0     0     0     0     0     0     0     0     0     0     0\n",
            "      0     0     0     0     0     0     0     0     0     0     0     0]\n",
            " [ 2478  3379  6126 15240  6514 12144  4919     0     0     0     0     0\n",
            "      0     0     0     0     0     0     0     0     0     0     0     0\n",
            "      0     0     0     0     0     0     0     0     0     0     0     0\n",
            "      0     0     0     0     0     0     0     0     0     0     0     0]\n",
            " [ 2478     0     0     0     0     0     0     0     0     0     0     0\n",
            "      0     0     0     0     0     0     0     0     0     0     0     0\n",
            "      0     0     0     0     0     0     0     0     0     0     0     0\n",
            "      0     0     0     0     0     0     0     0     0     0     0     0]]\n"
          ],
          "name": "stdout"
        }
      ]
    },
    {
      "cell_type": "code",
      "metadata": {
        "colab_type": "code",
        "id": "od6EQwqBkwep",
        "colab": {}
      },
      "source": [
        "X_train,X_val,y_train,y_val=train_test_split(features_train,y_target,test_size=0.2,stratify=y_target)"
      ],
      "execution_count": 0,
      "outputs": []
    },
    {
      "cell_type": "code",
      "metadata": {
        "id": "J4r-8osHzHoA",
        "colab_type": "code",
        "outputId": "d51e39e0-bb39-4173-88f0-fbacbca96fad",
        "colab": {
          "base_uri": "https://localhost:8080/",
          "height": 34
        }
      },
      "source": [
        "X_train.shape"
      ],
      "execution_count": 62,
      "outputs": [
        {
          "output_type": "execute_result",
          "data": {
            "text/plain": [
              "(124848, 48)"
            ]
          },
          "metadata": {
            "tags": []
          },
          "execution_count": 62
        }
      ]
    },
    {
      "cell_type": "code",
      "metadata": {
        "id": "fICOxYhW0G61",
        "colab_type": "code",
        "outputId": "130b831a-95d1-430a-a8c7-d71ed62cabea",
        "colab": {
          "base_uri": "https://localhost:8080/",
          "height": 34
        }
      },
      "source": [
        "X_val.shape"
      ],
      "execution_count": 63,
      "outputs": [
        {
          "output_type": "execute_result",
          "data": {
            "text/plain": [
              "(31212, 48)"
            ]
          },
          "metadata": {
            "tags": []
          },
          "execution_count": 63
        }
      ]
    },
    {
      "cell_type": "code",
      "metadata": {
        "id": "pBzpMzlD2zo-",
        "colab_type": "code",
        "colab": {}
      },
      "source": [
        "early_stopping = EarlyStopping(min_delta = 0.001, mode = 'max', monitor='val_acc', patience = 2)\n",
        "callback = [early_stopping]"
      ],
      "execution_count": 0,
      "outputs": []
    },
    {
      "cell_type": "code",
      "metadata": {
        "id": "l9UhmnVJ3XtX",
        "colab_type": "code",
        "outputId": "1e6a5fd2-4885-41b8-fa74-de3bf265f44e",
        "colab": {
          "base_uri": "https://localhost:8080/",
          "height": 357
        }
      },
      "source": [
        "#Model using Keras LSTM\n",
        "\n",
        "#Multilayer Perceptron (MLP) for multi-class softmax classification:\n",
        "#Let’s build what’s probably the most popular type of model in NLP at the moment: Long Short Term Memory network. \n",
        "#This architecture is specially designed to work on sequence data.\n",
        "#It fits perfectly for many NLP tasks like tagging and text classification.\n",
        "#It treats the text as a sequence rather than a bag of words or as ngrams.\n",
        "\n",
        "#Here’s a possible model definition:\n",
        "\n",
        "model=Sequential()\n",
        "model.add(Embedding(len(list(unique_words))+1,300,input_length=len_max))#size of embedding layer should be 1 more than the lenth of vocab size\n",
        "model.add(LSTM(64,dropout=0.2, recurrent_dropout=0.5,return_sequences=True))\n",
        "model.add(LSTM(32,dropout=0.2, recurrent_dropout=0.5,return_sequences=False))\n",
        "model.add(Dense(100,activation='relu'))\n",
        "model.add(Dropout(0.2))\n",
        "model.add(Dense(num_classes,activation='softmax'))\n",
        "model.compile(loss='categorical_crossentropy',optimizer=Adam(lr=0.0001),metrics=['accuracy'])\n",
        "model.summary()"
      ],
      "execution_count": 130,
      "outputs": [
        {
          "output_type": "stream",
          "text": [
            "Model: \"sequential_5\"\n",
            "_________________________________________________________________\n",
            "Layer (type)                 Output Shape              Param #   \n",
            "=================================================================\n",
            "embedding_5 (Embedding)      (None, 48, 300)           4765500   \n",
            "_________________________________________________________________\n",
            "lstm_9 (LSTM)                (None, 48, 64)            93440     \n",
            "_________________________________________________________________\n",
            "lstm_10 (LSTM)               (None, 32)                12416     \n",
            "_________________________________________________________________\n",
            "dense_9 (Dense)              (None, 100)               3300      \n",
            "_________________________________________________________________\n",
            "dropout_5 (Dropout)          (None, 100)               0         \n",
            "_________________________________________________________________\n",
            "dense_10 (Dense)             (None, 5)                 505       \n",
            "=================================================================\n",
            "Total params: 4,875,161\n",
            "Trainable params: 4,875,161\n",
            "Non-trainable params: 0\n",
            "_________________________________________________________________\n"
          ],
          "name": "stdout"
        }
      ]
    },
    {
      "cell_type": "code",
      "metadata": {
        "id": "gHve5hw54Ahh",
        "colab_type": "code",
        "colab": {
          "base_uri": "https://localhost:8080/",
          "height": 258
        },
        "outputId": "0d3d9baf-1556-406d-d9a4-3574fe731933"
      },
      "source": [
        "history=model.fit(X_train, y_train,validation_data=(X_val, y_val),epochs=10, batch_size=256, verbose=1, callbacks=callback)"
      ],
      "execution_count": 131,
      "outputs": [
        {
          "output_type": "stream",
          "text": [
            "Train on 124848 samples, validate on 31212 samples\n",
            "Epoch 1/10\n",
            "124848/124848 [==============================] - 292s 2ms/step - loss: 1.3436 - acc: 0.4970 - val_loss: 1.2813 - val_acc: 0.5100\n",
            "Epoch 2/10\n",
            "124848/124848 [==============================] - 285s 2ms/step - loss: 1.2735 - acc: 0.5094 - val_loss: 1.2344 - val_acc: 0.5138\n",
            "Epoch 3/10\n",
            "124848/124848 [==============================] - 284s 2ms/step - loss: 1.2302 - acc: 0.5055 - val_loss: 1.2002 - val_acc: 0.5084\n",
            "Epoch 4/10\n",
            "124848/124848 [==============================] - 288s 2ms/step - loss: 1.2055 - acc: 0.5077 - val_loss: 1.2034 - val_acc: 0.5290\n",
            "Epoch 5/10\n",
            "124848/124848 [==============================] - 285s 2ms/step - loss: 1.1846 - acc: 0.5123 - val_loss: 1.1722 - val_acc: 0.5106\n",
            "Epoch 6/10\n",
            "124848/124848 [==============================] - 286s 2ms/step - loss: 1.1727 - acc: 0.5215 - val_loss: 1.1641 - val_acc: 0.5272\n"
          ],
          "name": "stdout"
        }
      ]
    },
    {
      "cell_type": "code",
      "metadata": {
        "id": "u6VPjfZNjaCO",
        "colab_type": "code",
        "colab": {
          "base_uri": "https://localhost:8080/",
          "height": 661
        },
        "outputId": "ed536d5b-b416-4b25-d4c9-de8cf96d59df"
      },
      "source": [
        "from keras.utils import plot_model\n",
        "plot_model(model, to_file='model.png')# length of the sequence is 48 i.e. 48 time steps per phrase."
      ],
      "execution_count": 133,
      "outputs": [
        {
          "output_type": "execute_result",
          "data": {
            "image/png": "[encoded data removed]",
            "text/plain": [
              "<IPython.core.display.Image object>"
            ]
          },
          "metadata": {
            "tags": []
          },
          "execution_count": 133
        }
      ]
    },
    {
      "cell_type": "code",
      "metadata": {
        "id": "xE7ymNOXtEWC",
        "colab_type": "code",
        "colab": {
          "base_uri": "https://localhost:8080/",
          "height": 573
        },
        "outputId": "0c6b3be7-b9d1-44ff-a8e5-28ae9900e2ff"
      },
      "source": [
        "import matplotlib.pyplot as plt\n",
        "%matplotlib inline\n",
        "#history = model.fit(x, y, validation_split=0.25, epochs=50, batch_size=16, verbose=1)\n",
        "\n",
        "# Plot training & validation accuracy values\n",
        "plt.plot(history.history['acc'])\n",
        "plt.plot(history.history['val_acc'])\n",
        "#plt.xlim(0, 2) \n",
        "plt.title('Model accuracy')\n",
        "plt.ylabel('Accuracy')\n",
        "plt.xlabel('Epoch')\n",
        "plt.legend(['Train', 'Test'], loc='upper left')\n",
        "plt.show()\n",
        "fig = plt.figure()\n",
        "fig.savefig('accu.png')\n",
        "# Plot training & validation loss values\n",
        "plt.plot(history.history['loss'])\n",
        "plt.plot(history.history['val_loss'])\n",
        "#plt.xlim(0,2) \n",
        "plt.title('Model loss')\n",
        "plt.ylabel('Loss')\n",
        "plt.xlabel('Epoch')\n",
        "plt.legend(['Train', 'Test'], loc='upper left')\n",
        "plt.show()#"
      ],
      "execution_count": 134,
      "outputs": [
        {
          "output_type": "display_data",
          "data": {
            "image/png": "[encoded data removed]",
            "text/plain": [
              "<Figure size 432x288 with 1 Axes>"
            ]
          },
          "metadata": {
            "tags": []
          }
        },
        {
          "output_type": "display_data",
          "data": {
            "image/png": "[encoded data removed]",
            "text/plain": [
              "<Figure size 432x288 with 1 Axes>"
            ]
          },
          "metadata": {
            "tags": []
          }
        }
      ]
    },
    {
      "cell_type": "code",
      "metadata": {
        "id": "VdgFdWs-uu5Y",
        "colab_type": "code",
        "colab": {}
      },
      "source": [
        "from IPython.display import Image\n",
        "Image('/content/accu.png')"
      ],
      "execution_count": 0,
      "outputs": []
    },
    {
      "cell_type": "code",
      "metadata": {
        "id": "Vqxc8lLCxOav",
        "colab_type": "code",
        "colab": {}
      },
      "source": [
        "#make the predictions with trained model and submit the predictions.\n",
        "y_pred=model.predict_classes(features_test)\n",
        "\n"
      ],
      "execution_count": 0,
      "outputs": []
    },
    {
      "cell_type": "code",
      "metadata": {
        "id": "I5lCymT0G1tn",
        "colab_type": "code",
        "colab": {}
      },
      "source": [
        "sub_file = pd.read_csv('/content/sampleSubmission.csv',sep=',')\n",
        "sub_file.Sentiment=y_pred\n",
        "sub_file.to_csv('Submission.csv',index=False)"
      ],
      "execution_count": 0,
      "outputs": []
    },
    {
      "cell_type": "code",
      "metadata": {
        "id": "PJSoT5AJH25t",
        "colab_type": "code",
        "colab": {
          "base_uri": "https://localhost:8080/",
          "height": 34
        },
        "outputId": "28e8537f-1b40-4949-ee45-06f9eefac5e5"
      },
      "source": [
        " # serialize model to JSON\n",
        "model_json = model.to_json()\n",
        "with open(\"model.json\", \"w\") as json_file:\n",
        "    json_file.write(model_json)\n",
        "# serialize weights to HDF5\n",
        "model.save_weights(\"model.h5\")\n",
        "print(\"Saved model to disk\")"
      ],
      "execution_count": 135,
      "outputs": [
        {
          "output_type": "stream",
          "text": [
            "Saved model to disk\n"
          ],
          "name": "stdout"
        }
      ]
    },
    {
      "cell_type": "code",
      "metadata": {
        "id": "axuCW9vjUaw7",
        "colab_type": "code",
        "colab": {
          "base_uri": "https://localhost:8080/",
          "height": 357
        },
        "outputId": "8257b34e-0b4e-4d41-9817-8f83231032f5"
      },
      "source": [
        "model1=Sequential()\n",
        "model1.add(Embedding(len(list(unique_words))+1,300,input_length=len_max))#size of embedding layer should be 1 more than the lenth of vocab size\n",
        "model1.add(LSTM(64,dropout=0.2, recurrent_dropout=0.5,return_sequences=True))\n",
        "model1.add(LSTM(32,dropout=0.2, recurrent_dropout=0.5,return_sequences=False))\n",
        "model1.add(Dense(100,activation='relu'))\n",
        "model1.add(Dropout(0.2))\n",
        "model1.add(Dense(num_classes,activation='softmax'))\n",
        "model1.compile(loss='categorical_crossentropy',optimizer=Adam(lr=0.01),metrics=['accuracy'])\n",
        "model1.summary()"
      ],
      "execution_count": 136,
      "outputs": [
        {
          "output_type": "stream",
          "text": [
            "Model: \"sequential_6\"\n",
            "_________________________________________________________________\n",
            "Layer (type)                 Output Shape              Param #   \n",
            "=================================================================\n",
            "embedding_6 (Embedding)      (None, 48, 300)           4765500   \n",
            "_________________________________________________________________\n",
            "lstm_11 (LSTM)               (None, 48, 64)            93440     \n",
            "_________________________________________________________________\n",
            "lstm_12 (LSTM)               (None, 32)                12416     \n",
            "_________________________________________________________________\n",
            "dense_11 (Dense)             (None, 100)               3300      \n",
            "_________________________________________________________________\n",
            "dropout_6 (Dropout)          (None, 100)               0         \n",
            "_________________________________________________________________\n",
            "dense_12 (Dense)             (None, 5)                 505       \n",
            "=================================================================\n",
            "Total params: 4,875,161\n",
            "Trainable params: 4,875,161\n",
            "Non-trainable params: 0\n",
            "_________________________________________________________________\n"
          ],
          "name": "stdout"
        }
      ]
    },
    {
      "cell_type": "code",
      "metadata": {
        "id": "MqBT9gTDUsqh",
        "colab_type": "code",
        "colab": {}
      },
      "source": [
        "early_stopping1 = EarlyStopping(min_delta = 0.0001, mode = 'max', monitor='val_acc', patience = 2)\n",
        "callback1 = [early_stopping1]"
      ],
      "execution_count": 0,
      "outputs": []
    },
    {
      "cell_type": "code",
      "metadata": {
        "id": "4xEIRof8Wxvr",
        "colab_type": "code",
        "colab": {
          "base_uri": "https://localhost:8080/",
          "height": 360
        },
        "outputId": "402aebe3-f8ae-435d-c1b9-6d259994c98c"
      },
      "source": [
        "history1=model1.fit(X_train, y_train,validation_data=(X_val, y_val),epochs=10, batch_size=251, verbose=1, callbacks=callback1)"
      ],
      "execution_count": 138,
      "outputs": [
        {
          "output_type": "stream",
          "text": [
            "Train on 124848 samples, validate on 31212 samples\n",
            "Epoch 1/10\n",
            "124848/124848 [==============================] - 286s 2ms/step - loss: 1.2119 - acc: 0.5166 - val_loss: 1.1308 - val_acc: 0.5425\n",
            "Epoch 2/10\n",
            "124848/124848 [==============================] - 283s 2ms/step - loss: 1.0541 - acc: 0.5821 - val_loss: 0.9797 - val_acc: 0.6069\n",
            "Epoch 3/10\n",
            "124848/124848 [==============================] - 286s 2ms/step - loss: 0.9278 - acc: 0.6308 - val_loss: 0.9179 - val_acc: 0.6238\n",
            "Epoch 4/10\n",
            "124848/124848 [==============================] - 285s 2ms/step - loss: 0.8703 - acc: 0.6510 - val_loss: 0.8961 - val_acc: 0.6381\n",
            "Epoch 5/10\n",
            "124848/124848 [==============================] - 285s 2ms/step - loss: 0.8358 - acc: 0.6622 - val_loss: 0.8807 - val_acc: 0.6432\n",
            "Epoch 6/10\n",
            "124848/124848 [==============================] - 287s 2ms/step - loss: 0.8109 - acc: 0.6718 - val_loss: 0.8699 - val_acc: 0.6473\n",
            "Epoch 7/10\n",
            "124848/124848 [==============================] - 283s 2ms/step - loss: 0.8006 - acc: 0.6745 - val_loss: 0.8618 - val_acc: 0.6503\n",
            "Epoch 8/10\n",
            "124848/124848 [==============================] - 282s 2ms/step - loss: 0.7899 - acc: 0.6789 - val_loss: 0.8600 - val_acc: 0.6486\n",
            "Epoch 9/10\n",
            "124848/124848 [==============================] - 282s 2ms/step - loss: 0.7862 - acc: 0.6804 - val_loss: 0.8611 - val_acc: 0.6461\n"
          ],
          "name": "stdout"
        }
      ]
    },
    {
      "cell_type": "code",
      "metadata": {
        "id": "uclN7i2IhPz2",
        "colab_type": "code",
        "colab": {}
      },
      "source": [
        "#make the predictions with trained model and submit the predictions.\n",
        "y_pred1=model1.predict_classes(features_test)\n"
      ],
      "execution_count": 0,
      "outputs": []
    },
    {
      "cell_type": "code",
      "metadata": {
        "id": "uWxJt3dVhPtA",
        "colab_type": "code",
        "colab": {}
      },
      "source": [
        "sub_file1 = pd.read_csv('/content/sampleSubmission.csv',sep=',')\n",
        "sub_file1.Sentiment=y_pred1\n",
        "sub_file1.to_csv('Submission1.csv',index=False)"
      ],
      "execution_count": 0,
      "outputs": []
    },
    {
      "cell_type": "code",
      "metadata": {
        "id": "1AtoGOCDhPmd",
        "colab_type": "code",
        "colab": {
          "base_uri": "https://localhost:8080/",
          "height": 573
        },
        "outputId": "93c603fb-3226-40e4-8f90-41d7a7fda301"
      },
      "source": [
        "import matplotlib.pyplot as plt\n",
        "%matplotlib inline\n",
        "#history = model.fit(x, y, validation_split=0.25, epochs=50, batch_size=16, verbose=1)\n",
        "\n",
        "# Plot training & validation accuracy values\n",
        "plt.plot(history1.history['acc'])\n",
        "plt.plot(history1.history['val_acc'])\n",
        "#plt.xlim(0, 2) \n",
        "plt.title('Model accuracy')\n",
        "plt.ylabel('Accuracy')\n",
        "plt.xlabel('Epoch')\n",
        "plt.legend(['Train', 'Test'], loc='upper left')\n",
        "plt.show()\n",
        "# Plot training & validation loss values\n",
        "plt.plot(history1.history['loss'])\n",
        "plt.plot(history1.history['val_loss'])\n",
        "#plt.xlim(0,2) \n",
        "plt.title('Model loss')\n",
        "plt.ylabel('Loss')\n",
        "plt.xlabel('Epoch')\n",
        "plt.legend(['Train', 'Test'], loc='upper left')\n",
        "plt.show()#"
      ],
      "execution_count": 142,
      "outputs": [
        {
          "output_type": "display_data",
          "data": {
            "image/png": "[encoded data removed]",
            "text/plain": [
              "<Figure size 432x288 with 1 Axes>"
            ]
          },
          "metadata": {
            "tags": []
          }
        },
        {
          "output_type": "display_data",
          "data": {
            "image/png": "[encoded data removed]",
            "text/plain": [
              "<Figure size 432x288 with 1 Axes>"
            ]
          },
          "metadata": {
            "tags": []
          }
        }
      ]
    },
    {
      "cell_type": "code",
      "metadata": {
        "id": "oSe1liSEhO0t",
        "colab_type": "code",
        "colab": {}
      },
      "source": [
        ""
      ],
      "execution_count": 0,
      "outputs": []
    }
  ]
}
